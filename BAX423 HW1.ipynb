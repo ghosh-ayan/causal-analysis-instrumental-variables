{
 "cells": [
  {
   "cell_type": "code",
   "execution_count": 1,
   "id": "f59f1b28",
   "metadata": {
    "scrolled": true
   },
   "outputs": [
    {
     "name": "stderr",
     "output_type": "stream",
     "text": [
      "C:\\ProgramData\\Anaconda3\\lib\\site-packages\\statsmodels\\compat\\pandas.py:61: FutureWarning: pandas.Int64Index is deprecated and will be removed from pandas in a future version. Use pandas.Index with the appropriate dtype instead.\n",
      "  from pandas import Int64Index as NumericIndex\n"
     ]
    }
   ],
   "source": [
    "import numpy as np\n",
    "import pandas as pd\n",
    "from scipy import stats\n",
    "import statsmodels.api as sm"
   ]
  },
  {
   "cell_type": "markdown",
   "id": "380d83d7",
   "metadata": {},
   "source": [
    "# Exercise 1: Game Fun"
   ]
  },
  {
   "cell_type": "code",
   "execution_count": 2,
   "id": "f571804d",
   "metadata": {},
   "outputs": [],
   "source": [
    "df_game = pd.read_excel(\"GameFun.xlsx\")"
   ]
  },
  {
   "cell_type": "code",
   "execution_count": 3,
   "id": "92ea30b2",
   "metadata": {
    "scrolled": false
   },
   "outputs": [
    {
     "data": {
      "text/html": [
       "<div>\n",
       "<style scoped>\n",
       "    .dataframe tbody tr th:only-of-type {\n",
       "        vertical-align: middle;\n",
       "    }\n",
       "\n",
       "    .dataframe tbody tr th {\n",
       "        vertical-align: top;\n",
       "    }\n",
       "\n",
       "    .dataframe thead th {\n",
       "        text-align: right;\n",
       "    }\n",
       "</style>\n",
       "<table border=\"1\" class=\"dataframe\">\n",
       "  <thead>\n",
       "    <tr style=\"text-align: right;\">\n",
       "      <th></th>\n",
       "      <th>id</th>\n",
       "      <th>test</th>\n",
       "      <th>purchase</th>\n",
       "      <th>site</th>\n",
       "      <th>impressions</th>\n",
       "      <th>income</th>\n",
       "      <th>gender</th>\n",
       "      <th>gamer</th>\n",
       "    </tr>\n",
       "  </thead>\n",
       "  <tbody>\n",
       "    <tr>\n",
       "      <th>0</th>\n",
       "      <td>1956</td>\n",
       "      <td>0</td>\n",
       "      <td>0</td>\n",
       "      <td>site1</td>\n",
       "      <td>0</td>\n",
       "      <td>100</td>\n",
       "      <td>1</td>\n",
       "      <td>0</td>\n",
       "    </tr>\n",
       "    <tr>\n",
       "      <th>1</th>\n",
       "      <td>45821</td>\n",
       "      <td>1</td>\n",
       "      <td>0</td>\n",
       "      <td>site1</td>\n",
       "      <td>20</td>\n",
       "      <td>70</td>\n",
       "      <td>1</td>\n",
       "      <td>0</td>\n",
       "    </tr>\n",
       "    <tr>\n",
       "      <th>2</th>\n",
       "      <td>59690</td>\n",
       "      <td>1</td>\n",
       "      <td>0</td>\n",
       "      <td>site1</td>\n",
       "      <td>22</td>\n",
       "      <td>100</td>\n",
       "      <td>1</td>\n",
       "      <td>0</td>\n",
       "    </tr>\n",
       "    <tr>\n",
       "      <th>3</th>\n",
       "      <td>18851</td>\n",
       "      <td>0</td>\n",
       "      <td>0</td>\n",
       "      <td>site1</td>\n",
       "      <td>13</td>\n",
       "      <td>90</td>\n",
       "      <td>1</td>\n",
       "      <td>0</td>\n",
       "    </tr>\n",
       "    <tr>\n",
       "      <th>4</th>\n",
       "      <td>60647</td>\n",
       "      <td>1</td>\n",
       "      <td>0</td>\n",
       "      <td>site1</td>\n",
       "      <td>12</td>\n",
       "      <td>60</td>\n",
       "      <td>1</td>\n",
       "      <td>0</td>\n",
       "    </tr>\n",
       "  </tbody>\n",
       "</table>\n",
       "</div>"
      ],
      "text/plain": [
       "      id  test  purchase   site  impressions  income  gender  gamer\n",
       "0   1956     0         0  site1            0     100       1      0\n",
       "1  45821     1         0  site1           20      70       1      0\n",
       "2  59690     1         0  site1           22     100       1      0\n",
       "3  18851     0         0  site1           13      90       1      0\n",
       "4  60647     1         0  site1           12      60       1      0"
      ]
     },
     "execution_count": 3,
     "metadata": {},
     "output_type": "execute_result"
    }
   ],
   "source": [
    "df_game.head()"
   ]
  },
  {
   "cell_type": "code",
   "execution_count": 4,
   "id": "752d8372",
   "metadata": {},
   "outputs": [
    {
     "name": "stdout",
     "output_type": "stream",
     "text": [
      "<class 'pandas.core.frame.DataFrame'>\n",
      "RangeIndex: 40048 entries, 0 to 40047\n",
      "Data columns (total 8 columns):\n",
      " #   Column       Non-Null Count  Dtype \n",
      "---  ------       --------------  ----- \n",
      " 0   id           40048 non-null  int64 \n",
      " 1   test         40048 non-null  int64 \n",
      " 2   purchase     40048 non-null  int64 \n",
      " 3   site         40048 non-null  object\n",
      " 4   impressions  40048 non-null  int64 \n",
      " 5   income       40048 non-null  int64 \n",
      " 6   gender       40048 non-null  int64 \n",
      " 7   gamer        40048 non-null  int64 \n",
      "dtypes: int64(7), object(1)\n",
      "memory usage: 2.4+ MB\n"
     ]
    }
   ],
   "source": [
    "df_game.info()"
   ]
  },
  {
   "cell_type": "markdown",
   "id": "b45a8f06",
   "metadata": {},
   "source": [
    "**1. Before evaluating the effect of an experiment, it is important to make sure that the experiment was executed correctly. Check whether the test and control groups are probabilistically equivalent on their observables?**          \n",
    "a. More specific, compare the averages of the income, gender and gamer variables in the test and control groups. You should also report the % difference in the averages. Compute its statistical significance. [2 pts]        \n",
    "b. Briefly comment on what these metrics tell you about probabilistic equivalence for this experiment. [2 pts]              \n",
    "c. If you had run this type of analysis BEFORE executing an experiment and found a large difference between test and control groups, what you should do? [5 pts]                     \n",
    "d. (Open/Ended Question) If you had millions of consumers, your “classic” statistical significance tests would not work (this is because the number of samples is used to compute those classic statistical tests). Do some research online and propose what significance test would you do in case you had “big data”? [5 pts]       "
   ]
  },
  {
   "cell_type": "code",
   "execution_count": 5,
   "id": "577d33ed",
   "metadata": {
    "scrolled": false
   },
   "outputs": [
    {
     "data": {
      "text/html": [
       "<div>\n",
       "<style scoped>\n",
       "    .dataframe tbody tr th:only-of-type {\n",
       "        vertical-align: middle;\n",
       "    }\n",
       "\n",
       "    .dataframe tbody tr th {\n",
       "        vertical-align: top;\n",
       "    }\n",
       "\n",
       "    .dataframe thead th {\n",
       "        text-align: right;\n",
       "    }\n",
       "</style>\n",
       "<table border=\"1\" class=\"dataframe\">\n",
       "  <thead>\n",
       "    <tr style=\"text-align: right;\">\n",
       "      <th>test</th>\n",
       "      <th>0</th>\n",
       "      <th>1</th>\n",
       "      <th>percent_diff_in_avg</th>\n",
       "    </tr>\n",
       "  </thead>\n",
       "  <tbody>\n",
       "    <tr>\n",
       "      <th>income</th>\n",
       "      <td>55.166012</td>\n",
       "      <td>54.938236</td>\n",
       "      <td>0.00415</td>\n",
       "    </tr>\n",
       "    <tr>\n",
       "      <th>gender</th>\n",
       "      <td>0.647905</td>\n",
       "      <td>0.647289</td>\n",
       "      <td>0.00095</td>\n",
       "    </tr>\n",
       "    <tr>\n",
       "      <th>gamer</th>\n",
       "      <td>0.601823</td>\n",
       "      <td>0.601331</td>\n",
       "      <td>0.00082</td>\n",
       "    </tr>\n",
       "  </tbody>\n",
       "</table>\n",
       "</div>"
      ],
      "text/plain": [
       "test            0          1  percent_diff_in_avg\n",
       "income  55.166012  54.938236              0.00415\n",
       "gender   0.647905   0.647289              0.00095\n",
       "gamer    0.601823   0.601331              0.00082"
      ]
     },
     "execution_count": 5,
     "metadata": {},
     "output_type": "execute_result"
    }
   ],
   "source": [
    "# Compute Average of income, gender and gamer in test and control. Report % difference in these averages.\n",
    "df_mean_diff = df_game.groupby('test')[['income','gender','gamer']].mean().T\n",
    "df_mean_diff.head()\n",
    "df_mean_diff['percent_diff_in_avg'] =np.round(((df_mean_diff[0] - df_mean_diff[1])/df_mean_diff[1]),5)\n",
    "df_mean_diff.head()"
   ]
  },
  {
   "cell_type": "markdown",
   "id": "42a6e264",
   "metadata": {},
   "source": [
    "***We can see the average values of gender, gamer and income across both the treatment and control groups. The percent diffrence in averages is also reported in the above table.***"
   ]
  },
  {
   "cell_type": "code",
   "execution_count": 6,
   "id": "506e07ee",
   "metadata": {
    "scrolled": true
   },
   "outputs": [],
   "source": [
    "# Checking for statistical significance of the gender difference\n",
    "treatment_gender = df_game[df_game['test']==1]['gender']\n",
    "control_gender = df_game[df_game['test']==0]['gender']"
   ]
  },
  {
   "cell_type": "code",
   "execution_count": 7,
   "id": "8fcabaa2",
   "metadata": {},
   "outputs": [
    {
     "name": "stdout",
     "output_type": "stream",
     "text": [
      "Variance of gender in treatment group: 0.22830590118167943\n",
      "Variance of gender in control group: 0.22812411307788086\n",
      "How many times is the larger variance than the smaller variance : 1.0007968824572986\n"
     ]
    }
   ],
   "source": [
    "# Before applying two sample t-test, we want to confirm equal variance or not. Since its equal we can apply the right t-test.\n",
    "print(\"Variance of gender in treatment group:\",  np.var(treatment_gender))\n",
    "print(\"Variance of gender in control group:\",  np.var(control_gender))\n",
    "print(\"How many times is the larger variance than the smaller variance :\",  np.var(treatment_gender) / np.var(control_gender))"
   ]
  },
  {
   "cell_type": "code",
   "execution_count": 8,
   "id": "4c46878d",
   "metadata": {
    "scrolled": false
   },
   "outputs": [
    {
     "data": {
      "text/plain": [
       "Ttest_indResult(statistic=-0.11804408014871089, pvalue=0.906033323148871)"
      ]
     },
     "execution_count": 8,
     "metadata": {},
     "output_type": "execute_result"
    }
   ],
   "source": [
    "# t-test\n",
    "stats.ttest_ind(a=treatment_gender, b=control_gender, equal_var=True)"
   ]
  },
  {
   "cell_type": "markdown",
   "id": "2238374c",
   "metadata": {},
   "source": [
    "**We can see that that the two groups are equivalent in terms of gender as the t-test shows that the difference between the averages is not statistically significant.**"
   ]
  },
  {
   "cell_type": "code",
   "execution_count": 9,
   "id": "b69dc5fe",
   "metadata": {},
   "outputs": [],
   "source": [
    "# Checking for statistical significance of the income difference\n",
    "treatment_income = df_game[df_game['test']==1]['income']\n",
    "control_income = df_game[df_game['test']==0]['income']"
   ]
  },
  {
   "cell_type": "code",
   "execution_count": 10,
   "id": "229a74fe",
   "metadata": {},
   "outputs": [
    {
     "name": "stdout",
     "output_type": "stream",
     "text": [
      "Variance of income in treatment group: 188.74970062410344\n",
      "Variance of income in control group: 186.80233060888244\n",
      "How many times is the larger variance than the smaller variance : 1.0104247629506202\n"
     ]
    }
   ],
   "source": [
    "# Before applying two sample t-test, we want to confirm equal variance or not. Since its equal we can apply the right t-test.\n",
    "print(\"Variance of income in treatment group:\",  np.var(treatment_income))\n",
    "print(\"Variance of income in control group:\",  np.var(control_income))\n",
    "print(\"How many times is the larger variance than the smaller variance :\",  np.var(treatment_income) / np.var(control_income))"
   ]
  },
  {
   "cell_type": "code",
   "execution_count": 11,
   "id": "612bed5a",
   "metadata": {
    "scrolled": true
   },
   "outputs": [
    {
     "data": {
      "text/plain": [
       "Ttest_indResult(statistic=-1.520640253683462, pvalue=0.1283580345995143)"
      ]
     },
     "execution_count": 11,
     "metadata": {},
     "output_type": "execute_result"
    }
   ],
   "source": [
    "# t-test\n",
    "stats.ttest_ind(a=treatment_income, b=control_income, equal_var=True)"
   ]
  },
  {
   "cell_type": "markdown",
   "id": "390b9b1c",
   "metadata": {},
   "source": [
    "**We can see that that the two groups are equivalent in terms of income as the t-test shows that the difference between the averages is not statistically significant.**"
   ]
  },
  {
   "cell_type": "code",
   "execution_count": 12,
   "id": "5f1ecec5",
   "metadata": {},
   "outputs": [],
   "source": [
    "# Checking for statistical significance of the gamer difference\n",
    "treatment_gamer = df_game[df_game['test']==1]['gamer']\n",
    "control_gamer = df_game[df_game['test']==0]['gamer']"
   ]
  },
  {
   "cell_type": "code",
   "execution_count": 13,
   "id": "2e0c3934",
   "metadata": {},
   "outputs": [
    {
     "name": "stdout",
     "output_type": "stream",
     "text": [
      "Variance of gamer in treatment group: 0.2397319499525355\n",
      "Variance of gamer in control group: 0.23963203598263988\n",
      "How many times is the larger variance than the smaller variance : 1.0004169474648326\n"
     ]
    }
   ],
   "source": [
    "# Before applying two sample t-test, we want to confirm equal variance or not. Since its equal we can apply the right t-test.\n",
    "print(\"Variance of gamer in treatment group:\",  np.var(treatment_gamer))\n",
    "print(\"Variance of gamer in control group:\",  np.var(control_gamer))\n",
    "print(\"How many times is the larger variance than the smaller variance :\",  np.var(treatment_gamer) / np.var(control_gamer))"
   ]
  },
  {
   "cell_type": "code",
   "execution_count": 14,
   "id": "cc6ecb8f",
   "metadata": {},
   "outputs": [
    {
     "data": {
      "text/plain": [
       "Ttest_indResult(statistic=-0.09199349089131977, pvalue=0.9267036713286598)"
      ]
     },
     "execution_count": 14,
     "metadata": {},
     "output_type": "execute_result"
    }
   ],
   "source": [
    "# t-test\n",
    "stats.ttest_ind(a=treatment_gamer, b=control_gamer, equal_var=True)"
   ]
  },
  {
   "cell_type": "markdown",
   "id": "571ead4e",
   "metadata": {},
   "source": [
    "**We can see that that the two groups are equivalent in terms of gamer/non-gamer as the t-test shows that the difference between the averages is not statistically significant.**"
   ]
  },
  {
   "cell_type": "markdown",
   "id": "3aa7acb7",
   "metadata": {},
   "source": [
    "**2. Evaluate the average purchase rates in the test and control for the following groups. For each comparison, report the average purchase rate for the test, average purchase rate for the control and the absolute difference (not the % difference) between the test and control.**              \n",
    "a. Comparison 1: All customers [2 pts]               \n",
    "b. Comparison 2: Male vs Female customers [2 pts]                 \n",
    "c. Comparison 3: Gamers vs Non-Gamers Customers [2 pts]               \n",
    "d. Comparison 4: Female Gamers vs Male Gamers [2 pts]                  \n"
   ]
  },
  {
   "cell_type": "markdown",
   "id": "59447972",
   "metadata": {},
   "source": [
    "### Comparison 1"
   ]
  },
  {
   "cell_type": "code",
   "execution_count": 15,
   "id": "b5a186a8",
   "metadata": {
    "scrolled": true
   },
   "outputs": [
    {
     "data": {
      "text/plain": [
       "test\n",
       "0    0.036213\n",
       "1    0.076822\n",
       "Name: purchase, dtype: float64"
      ]
     },
     "execution_count": 15,
     "metadata": {},
     "output_type": "execute_result"
    }
   ],
   "source": [
    "c1 = df_game.groupby('test')['purchase'].mean()\n",
    "c1"
   ]
  },
  {
   "cell_type": "code",
   "execution_count": 16,
   "id": "325df2e1",
   "metadata": {},
   "outputs": [
    {
     "name": "stdout",
     "output_type": "stream",
     "text": [
      "Purchase Rate Absolute Difference between Treatment and Control for ALL Customers : 0.0406\n"
     ]
    }
   ],
   "source": [
    "print(\"Purchase Rate Absolute Difference between Treatment and Control for ALL Customers :\", np.round(c1[1] - c1[0],4))"
   ]
  },
  {
   "cell_type": "markdown",
   "id": "b547c558",
   "metadata": {},
   "source": [
    "### Comparison 2"
   ]
  },
  {
   "cell_type": "code",
   "execution_count": 17,
   "id": "3c46838f",
   "metadata": {
    "scrolled": true
   },
   "outputs": [
    {
     "data": {
      "text/plain": [
       "test  gender\n",
       "0     0         0.034442\n",
       "      1         0.037176\n",
       "1     0         0.080945\n",
       "      1         0.074575\n",
       "Name: purchase, dtype: float64"
      ]
     },
     "execution_count": 17,
     "metadata": {},
     "output_type": "execute_result"
    }
   ],
   "source": [
    "c2 = df_game.groupby(['test', 'gender'])['purchase'].mean()\n",
    "c2.head()"
   ]
  },
  {
   "cell_type": "code",
   "execution_count": 18,
   "id": "8f9fcdc4",
   "metadata": {},
   "outputs": [
    {
     "name": "stdout",
     "output_type": "stream",
     "text": [
      "Purchase Rate Absolute Difference between Treatment and Control for Male Customers : 0.0374\n",
      "Purchase Rate Absolute Difference between Treatment and Control for Female Customers : 0.0465\n"
     ]
    }
   ],
   "source": [
    "print(\"Purchase Rate Absolute Difference between Treatment and Control for Male Customers :\", np.round(c2[1,1] - c2[0,1],4))\n",
    "print(\"Purchase Rate Absolute Difference between Treatment and Control for Female Customers :\", np.round(c2[1,0] - c2[0,0],4))"
   ]
  },
  {
   "cell_type": "markdown",
   "id": "5ec89e8c",
   "metadata": {},
   "source": [
    "### Comparison 3"
   ]
  },
  {
   "cell_type": "code",
   "execution_count": 19,
   "id": "f5d016cc",
   "metadata": {
    "scrolled": false
   },
   "outputs": [
    {
     "data": {
      "text/plain": [
       "test  gamer\n",
       "0     0        0.037387\n",
       "      1        0.035436\n",
       "1     0        0.035092\n",
       "      1        0.104487\n",
       "Name: purchase, dtype: float64"
      ]
     },
     "execution_count": 19,
     "metadata": {},
     "output_type": "execute_result"
    }
   ],
   "source": [
    "c3 = df_game.groupby(['test', 'gamer'])['purchase'].mean()\n",
    "c3.head()"
   ]
  },
  {
   "cell_type": "code",
   "execution_count": 20,
   "id": "adafc846",
   "metadata": {},
   "outputs": [
    {
     "name": "stdout",
     "output_type": "stream",
     "text": [
      "Purchase Rate Absolute Difference between Treatment and Control for Gamer Customers : 0.0691\n",
      "Purchase Rate Absolute Difference between Treatment and Control for Non-Gamer Customers : -0.0023\n"
     ]
    }
   ],
   "source": [
    "print(\"Purchase Rate Absolute Difference between Treatment and Control for Gamer Customers :\", np.round(c3[1,1] - c3[0,1],4))\n",
    "print(\"Purchase Rate Absolute Difference between Treatment and Control for Non-Gamer Customers :\", np.round(c3[1,0] - c3[0,0],4))"
   ]
  },
  {
   "cell_type": "markdown",
   "id": "493da829",
   "metadata": {},
   "source": [
    "### Comparison 4"
   ]
  },
  {
   "cell_type": "code",
   "execution_count": 21,
   "id": "82789e24",
   "metadata": {
    "scrolled": false
   },
   "outputs": [
    {
     "data": {
      "text/plain": [
       "test  gender\n",
       "0     0         0.032041\n",
       "      1         0.037275\n",
       "1     0         0.110092\n",
       "      1         0.101404\n",
       "Name: purchase, dtype: float64"
      ]
     },
     "execution_count": 21,
     "metadata": {},
     "output_type": "execute_result"
    }
   ],
   "source": [
    "c4 = df_game[df_game['gamer'] == 1].groupby(['test', 'gender'])['purchase'].mean()\n",
    "c4.head()"
   ]
  },
  {
   "cell_type": "code",
   "execution_count": 22,
   "id": "3d0dab53",
   "metadata": {
    "scrolled": true
   },
   "outputs": [
    {
     "name": "stdout",
     "output_type": "stream",
     "text": [
      "Purchase Rate Absolute Difference between Treatment and Control for Male Gamers : 0.0641\n",
      "Purchase Rate Absolute Difference between Treatment and Control for Female Gamers : 0.0781\n"
     ]
    }
   ],
   "source": [
    "print(\"Purchase Rate Absolute Difference between Treatment and Control for Male Gamers :\", np.round(c4[1,1] - c4[0,1],4))\n",
    "print(\"Purchase Rate Absolute Difference between Treatment and Control for Female Gamers :\", np.round(c4[1,0] - c4[0,0],4))"
   ]
  },
  {
   "cell_type": "markdown",
   "id": "bd46057e",
   "metadata": {},
   "source": [
    "***3. Assess the expected revenue in the test vs. control for the following comparisons:***                        \n",
    "a. Comparison 1: All customers [4 pts]\n",
    "b. Comparison 4: Female Gamers vs Male Gamers [4 pts]                 "
   ]
  },
  {
   "cell_type": "markdown",
   "id": "5ce44e74",
   "metadata": {},
   "source": [
    "**It is vital to understand for expected revenue calculation that :-**       \n",
    "- the revenue inflow per subscription for someone in the treatment group = **12.5 dollars (37.5 minus promotional value 25).**\n",
    "- the revenue per subscription for someone in the control group = **37.5 dollars  (since there is no promotion received by user)**"
   ]
  },
  {
   "cell_type": "markdown",
   "id": "ba2b4a73",
   "metadata": {},
   "source": [
    "### Comparison 1: All customers"
   ]
  },
  {
   "cell_type": "code",
   "execution_count": 23,
   "id": "a042ffde",
   "metadata": {
    "scrolled": true
   },
   "outputs": [
    {
     "data": {
      "text/plain": [
       "test\n",
       "0     433\n",
       "1    2158\n",
       "Name: purchase, dtype: int64"
      ]
     },
     "execution_count": 23,
     "metadata": {},
     "output_type": "execute_result"
    }
   ],
   "source": [
    "c5 = df_game.groupby('test')['purchase'].sum()\n",
    "c5"
   ]
  },
  {
   "cell_type": "code",
   "execution_count": 24,
   "id": "ecbe4682",
   "metadata": {},
   "outputs": [
    {
     "name": "stdout",
     "output_type": "stream",
     "text": [
      "Expected Revenue in Control group: 16237.50\n",
      "Expected Revenue in Treatment group: 26975.00\n",
      "Increase in Revenue in Treatment group: 10737.50\n"
     ]
    }
   ],
   "source": [
    "print(\"Expected Revenue in Control group: {:.2f}\".format(37.5 * c5[0]))\n",
    "print(\"Expected Revenue in Treatment group: {:.2f}\".format(12.5 * c5[1]))\n",
    "print(\"Increase in Revenue in Treatment group: {:.2f}\".format((12.5 * c5[1]) - (37.5 * c5[0])))"
   ]
  },
  {
   "cell_type": "markdown",
   "id": "97caad69",
   "metadata": {},
   "source": [
    "### Comparison 4: Female Gamers vs Male Gamers"
   ]
  },
  {
   "cell_type": "code",
   "execution_count": 25,
   "id": "db008229",
   "metadata": {
    "scrolled": true
   },
   "outputs": [
    {
     "data": {
      "text/plain": [
       "test  gender\n",
       "0     0           81\n",
       "      1          174\n",
       "1     0          660\n",
       "      1         1105\n",
       "Name: purchase, dtype: int64"
      ]
     },
     "execution_count": 25,
     "metadata": {},
     "output_type": "execute_result"
    }
   ],
   "source": [
    "c6 = df_game[df_game['gamer'] == 1].groupby(['test', 'gender'])['purchase'].sum()\n",
    "c6.head()"
   ]
  },
  {
   "cell_type": "code",
   "execution_count": 26,
   "id": "d9f2c048",
   "metadata": {},
   "outputs": [
    {
     "name": "stdout",
     "output_type": "stream",
     "text": [
      "Expected Revenue in Control Female Gamer group: 3037.50\n",
      "Expected Revenue in Treatment Female Gamer group: 8250.00\n",
      "Increase in Revenue in Treatment group: 5212.50\n"
     ]
    }
   ],
   "source": [
    "print(\"Expected Revenue in Control Female Gamer group: {:.2f}\".format(37.5 * c6[0,0]))\n",
    "print(\"Expected Revenue in Treatment Female Gamer group: {:.2f}\".format(12.5 * c6[1,0]))\n",
    "print(\"Increase in Revenue in Treatment group: {:.2f}\".format(((12.5 * c6[1,0]) - (37.5 * c6[0,0]))))"
   ]
  },
  {
   "cell_type": "code",
   "execution_count": 27,
   "id": "b33b2add",
   "metadata": {},
   "outputs": [
    {
     "name": "stdout",
     "output_type": "stream",
     "text": [
      "Expected Revenue in Control Male Gamer group: 6525.00\n",
      "Expected Revenue in Treatment Male Gamer group: 13812.50\n",
      "Increase in Revenue in Treatment group: 7287.50\n"
     ]
    }
   ],
   "source": [
    "print(\"Expected Revenue in Control Male Gamer group: {:.2f}\".format(37.5 * c6[0,1]))\n",
    "print(\"Expected Revenue in Treatment Male Gamer group: {:.2f}\".format(12.5 * c6[1,1]))\n",
    "print(\"Increase in Revenue in Treatment group: {:.2f}\".format(((12.5 * c6[1,1]) - (37.5 * c6[0,1]))))"
   ]
  },
  {
   "cell_type": "markdown",
   "id": "8cf5c149",
   "metadata": {},
   "source": [
    "**4. Based on your previous answers, provide a brief recommendation to your management team summarizing the expected financial outcome for Game-Fun.**           \n",
    "a. Should Game-Fun run this promotion again in the future? If no, explain why. If\n",
    "yes, should Game-Fun offer it to all customers or a targeted segment. [10 pts]"
   ]
  },
  {
   "cell_type": "markdown",
   "id": "0757ae47",
   "metadata": {},
   "source": [
    "- We can see that there is an increase in expected revenue for the treatment group. \n",
    "- However there are tradeoffs, as the the promotion offer offsets the revenue inflow for the treatment group.\n",
    "- Despite this, the more number of paid subscribers will increase organic traffic or subscription since the K-factor will increase.\n",
    "- Considering this, we can recommend Game Fun to run such a promotion in future.\n"
   ]
  },
  {
   "cell_type": "markdown",
   "id": "12392d0d",
   "metadata": {},
   "source": [
    "Questions:      \n",
    "1. For each treatment customer making a purchase the revenue is 12.5, but for each control customer making a purchase the revenue is 37.5. Is that understanding correct?\n",
    "2. Revenue means the net inflow. Is that correct?"
   ]
  },
  {
   "cell_type": "markdown",
   "id": "17c565a6",
   "metadata": {},
   "source": [
    "# Exercise 2: Non-Compliance in Randomized Experiements"
   ]
  },
  {
   "cell_type": "code",
   "execution_count": 28,
   "id": "e98b2068",
   "metadata": {},
   "outputs": [
    {
     "data": {
      "text/html": [
       "<div>\n",
       "<style scoped>\n",
       "    .dataframe tbody tr th:only-of-type {\n",
       "        vertical-align: middle;\n",
       "    }\n",
       "\n",
       "    .dataframe tbody tr th {\n",
       "        vertical-align: top;\n",
       "    }\n",
       "\n",
       "    .dataframe thead th {\n",
       "        text-align: right;\n",
       "    }\n",
       "</style>\n",
       "<table border=\"1\" class=\"dataframe\">\n",
       "  <thead>\n",
       "    <tr style=\"text-align: right;\">\n",
       "      <th></th>\n",
       "      <th>instrument</th>\n",
       "      <th>treatment</th>\n",
       "      <th>outcome</th>\n",
       "    </tr>\n",
       "  </thead>\n",
       "  <tbody>\n",
       "    <tr>\n",
       "      <th>0</th>\n",
       "      <td>0</td>\n",
       "      <td>0</td>\n",
       "      <td>0</td>\n",
       "    </tr>\n",
       "    <tr>\n",
       "      <th>1</th>\n",
       "      <td>0</td>\n",
       "      <td>0</td>\n",
       "      <td>0</td>\n",
       "    </tr>\n",
       "    <tr>\n",
       "      <th>2</th>\n",
       "      <td>0</td>\n",
       "      <td>0</td>\n",
       "      <td>0</td>\n",
       "    </tr>\n",
       "    <tr>\n",
       "      <th>3</th>\n",
       "      <td>0</td>\n",
       "      <td>0</td>\n",
       "      <td>0</td>\n",
       "    </tr>\n",
       "    <tr>\n",
       "      <th>4</th>\n",
       "      <td>0</td>\n",
       "      <td>0</td>\n",
       "      <td>0</td>\n",
       "    </tr>\n",
       "  </tbody>\n",
       "</table>\n",
       "</div>"
      ],
      "text/plain": [
       "   instrument  treatment  outcome\n",
       "0           0          0        0\n",
       "1           0          0        0\n",
       "2           0          0        0\n",
       "3           0          0        0\n",
       "4           0          0        0"
      ]
     },
     "execution_count": 28,
     "metadata": {},
     "output_type": "execute_result"
    }
   ],
   "source": [
    "df_sommer = pd.read_csv(\"sommer_deger.csv\")\n",
    "df_sommer.head()"
   ]
  },
  {
   "cell_type": "markdown",
   "id": "7c1450c0",
   "metadata": {},
   "source": [
    "***1. The first data scientist advised that one should compare the survival rate of babies whose mothers were offered Vitamin A shots to the survival rate of babies whose mothers were not offered a Vitamin A shot.***         \n",
    "a. What percent of babies whose mothers were offered Vitamin A shots for their babies died? [3 pts]                 \n",
    "b. What percent of babies whose mothers were not offered Vitamin A shots for their babies died? [3 pts]           \n",
    "c. What is the difference in mortality, and under what assumptions is the difference between these two percentages a valid estimate of the causal impact of receiving vitamin A shots on survival? [4 pts]                     \n",
    "   "
   ]
  },
  {
   "cell_type": "code",
   "execution_count": 29,
   "id": "f3a72846",
   "metadata": {
    "scrolled": false
   },
   "outputs": [
    {
     "data": {
      "text/html": [
       "<div>\n",
       "<style scoped>\n",
       "    .dataframe tbody tr th:only-of-type {\n",
       "        vertical-align: middle;\n",
       "    }\n",
       "\n",
       "    .dataframe tbody tr th {\n",
       "        vertical-align: top;\n",
       "    }\n",
       "\n",
       "    .dataframe thead th {\n",
       "        text-align: right;\n",
       "    }\n",
       "</style>\n",
       "<table border=\"1\" class=\"dataframe\">\n",
       "  <thead>\n",
       "    <tr style=\"text-align: right;\">\n",
       "      <th>instrument</th>\n",
       "      <th>0</th>\n",
       "      <th>1</th>\n",
       "    </tr>\n",
       "  </thead>\n",
       "  <tbody>\n",
       "    <tr>\n",
       "      <th>outcome</th>\n",
       "      <td>0.006386</td>\n",
       "      <td>0.003804</td>\n",
       "    </tr>\n",
       "  </tbody>\n",
       "</table>\n",
       "</div>"
      ],
      "text/plain": [
       "instrument         0         1\n",
       "outcome     0.006386  0.003804"
      ]
     },
     "execution_count": 29,
     "metadata": {},
     "output_type": "execute_result"
    }
   ],
   "source": [
    "df_prop_diff1 = df_sommer.groupby('instrument')[['outcome']].mean().T\n",
    "df_prop_diff1.head()"
   ]
  },
  {
   "cell_type": "code",
   "execution_count": 30,
   "id": "243efcbc",
   "metadata": {},
   "outputs": [
    {
     "data": {
      "text/plain": [
       "-0.0062633459140857845"
      ]
     },
     "execution_count": 30,
     "metadata": {},
     "output_type": "execute_result"
    }
   ],
   "source": [
    " (df_prop_diff1.iloc[0,1] - df_prop_diff1.iloc[0,0]) / 0.4123"
   ]
  },
  {
   "cell_type": "markdown",
   "id": "17878237",
   "metadata": {},
   "source": [
    "- a. 0.3804 % of babies whose mothers were offered Vitamin A shots for their babies died.\n",
    "- b. 0.6386 % of babies whose mothers were not offered Vitamin A shots for their babies died.\n",
    "- c. The difference in mortality rate ('Offered' - 'Not Offered') is 0.26%. \n",
    "\n",
    "The question asks for the assumptions required for this difference being valid estimate of causal impact of **receiving Vitamin A** on mortality. However we must note that the independent variable used in this case is not **received Vitamin A**(treatment), but **offered Vitamin A**(instrument). Therefore certainly the difference cannot be causal effect of treatment.       \n",
    "\n",
    "In general though, for the effect to be causal, we have to assume that there are no systematic differences between the two groups - treatment and control, or in other words, the choice of who were offered Vitamin A vs not should have been decided based on random assignment, so that the possibility of confounding variables (observed or unobserved) is mitigated as much as possible. "
   ]
  },
  {
   "cell_type": "code",
   "execution_count": 31,
   "id": "8bd03630",
   "metadata": {},
   "outputs": [],
   "source": [
    "Y = df_sommer[['outcome']]\n",
    "Z = df_sommer[['instrument']]\n",
    "Y = Y.astype(float)\n",
    "Z = Z.astype(float)\n",
    "Z = sm.add_constant(Z)\n",
    "model1 = sm.OLS(Y,Z)\n",
    "results1 = model1.fit()"
   ]
  },
  {
   "cell_type": "code",
   "execution_count": 32,
   "id": "6610f052",
   "metadata": {
    "scrolled": true
   },
   "outputs": [
    {
     "name": "stdout",
     "output_type": "stream",
     "text": [
      "                            OLS Regression Results                            \n",
      "==============================================================================\n",
      "Dep. Variable:                outcome   R-squared:                       0.000\n",
      "Model:                            OLS   Adj. R-squared:                  0.000\n",
      "Method:                 Least Squares   F-statistic:                     7.830\n",
      "Date:                Fri, 08 Apr 2022   Prob (F-statistic):            0.00514\n",
      "Time:                        09:30:57   Log-Likelihood:                 29040.\n",
      "No. Observations:               23682   AIC:                        -5.808e+04\n",
      "Df Residuals:                   23680   BIC:                        -5.806e+04\n",
      "Df Model:                           1                                         \n",
      "Covariance Type:            nonrobust                                         \n",
      "==============================================================================\n",
      "                 coef    std err          t      P>|t|      [0.025      0.975]\n",
      "------------------------------------------------------------------------------\n",
      "const          0.0064      0.001      9.683      0.000       0.005       0.008\n",
      "instrument    -0.0026      0.001     -2.798      0.005      -0.004      -0.001\n",
      "==============================================================================\n",
      "Omnibus:                    43237.828   Durbin-Watson:                   0.042\n",
      "Prob(Omnibus):                  0.000   Jarque-Bera (JB):         37228295.628\n",
      "Skew:                          13.934   Prob(JB):                         0.00\n",
      "Kurtosis:                     195.228   Cond. No.                         2.64\n",
      "==============================================================================\n",
      "\n",
      "Notes:\n",
      "[1] Standard Errors assume that the covariance matrix of the errors is correctly specified.\n"
     ]
    }
   ],
   "source": [
    "print(results1.summary())"
   ]
  },
  {
   "cell_type": "code",
   "execution_count": 33,
   "id": "9be07e3e",
   "metadata": {},
   "outputs": [
    {
     "data": {
      "text/plain": [
       "const         0.006386\n",
       "instrument   -0.002582\n",
       "dtype: float64"
      ]
     },
     "execution_count": 33,
     "metadata": {},
     "output_type": "execute_result"
    }
   ],
   "source": [
    "results1.params"
   ]
  },
  {
   "cell_type": "markdown",
   "id": "6b258acd",
   "metadata": {},
   "source": [
    "***2. The second data scientist advised that one should compare the survival rates of babies who received Vitamin A shots to babies who did not receive Vitamin A shots.***                     \n",
    "a. What percent of babies who received Vitamin A shots died? [3 pts]             \n",
    "b. What percent of babies who did not receive Vitamin A shots died? [3 pts]                \n",
    "c. What is the difference in mortality, and under what assumptions is the               \n",
    "difference between these two percentages a valid estimate of the causal impact                \n",
    "of receiving vitamin A shots on survival? [4 pts]             **\n"
   ]
  },
  {
   "cell_type": "code",
   "execution_count": 34,
   "id": "7b73258c",
   "metadata": {
    "scrolled": true
   },
   "outputs": [
    {
     "data": {
      "text/html": [
       "<div>\n",
       "<style scoped>\n",
       "    .dataframe tbody tr th:only-of-type {\n",
       "        vertical-align: middle;\n",
       "    }\n",
       "\n",
       "    .dataframe tbody tr th {\n",
       "        vertical-align: top;\n",
       "    }\n",
       "\n",
       "    .dataframe thead th {\n",
       "        text-align: right;\n",
       "    }\n",
       "</style>\n",
       "<table border=\"1\" class=\"dataframe\">\n",
       "  <thead>\n",
       "    <tr style=\"text-align: right;\">\n",
       "      <th>treatment</th>\n",
       "      <th>0</th>\n",
       "      <th>1</th>\n",
       "    </tr>\n",
       "  </thead>\n",
       "  <tbody>\n",
       "    <tr>\n",
       "      <th>outcome</th>\n",
       "      <td>0.00771</td>\n",
       "      <td>0.00124</td>\n",
       "    </tr>\n",
       "  </tbody>\n",
       "</table>\n",
       "</div>"
      ],
      "text/plain": [
       "treatment        0        1\n",
       "outcome    0.00771  0.00124"
      ]
     },
     "execution_count": 34,
     "metadata": {},
     "output_type": "execute_result"
    }
   ],
   "source": [
    "df_prop_diff2= df_sommer.groupby('treatment')[['outcome']].mean().T\n",
    "df_prop_diff2.head()"
   ]
  },
  {
   "cell_type": "markdown",
   "id": "8764877a",
   "metadata": {},
   "source": [
    "- a. 0.124 % of babies whose mothers were gave Vitamin A shots to their babies died.\n",
    "- b. 0.771 % of babies whose mothers did not give Vitamin A shots to their babies died.\n",
    "- c. Therefore difference in mortality rate ('Received' - 'Not Received') is 0.65%. \n",
    "      \n",
    "\n",
    "For the difference in percentages to be a causal effect of receiving Vitamin A on mortality rate, we have to assume that there are no systematic differences between the two groups - those who received Vitamin A and those who didn't, or in other words, the choice of who were received Vitamin A vs not should have been decided based on random assignment, so that the possibility of confounding variables (observed or unobserved) is mitigated as much as possible. \n",
    "\n",
    "However, since we are not sure that the groups of mothers who gave their babies the vitamin vs those who didn't give their babies vitamin are identical in all aspects (observed or unobserved), in other words, it is possible that the mother not giving the baby treatment could be a non-random event, and it could be influenced by other factors (possibly unobserved), so we cannot consider this percentage difference to be the causal effect."
   ]
  },
  {
   "cell_type": "code",
   "execution_count": 35,
   "id": "03befe46",
   "metadata": {},
   "outputs": [],
   "source": [
    "Y = df_sommer[['outcome']]\n",
    "X = df_sommer[['treatment']]\n",
    "Y = Y.astype(float)\n",
    "X = X.astype(float)\n",
    "X = sm.add_constant(X)\n",
    "model2 = sm.OLS(Y,X)\n",
    "results2 = model2.fit()"
   ]
  },
  {
   "cell_type": "code",
   "execution_count": 36,
   "id": "9e64354e",
   "metadata": {
    "scrolled": true
   },
   "outputs": [
    {
     "name": "stdout",
     "output_type": "stream",
     "text": [
      "                            OLS Regression Results                            \n",
      "==============================================================================\n",
      "Dep. Variable:                outcome   R-squared:                       0.002\n",
      "Model:                            OLS   Adj. R-squared:                  0.002\n",
      "Method:                 Least Squares   F-statistic:                     47.61\n",
      "Date:                Fri, 08 Apr 2022   Prob (F-statistic):           5.34e-12\n",
      "Time:                        09:30:57   Log-Likelihood:                 29060.\n",
      "No. Observations:               23682   AIC:                        -5.812e+04\n",
      "Df Residuals:                   23680   BIC:                        -5.810e+04\n",
      "Df Model:                           1                                         \n",
      "Covariance Type:            nonrobust                                         \n",
      "==============================================================================\n",
      "                 coef    std err          t      P>|t|      [0.025      0.975]\n",
      "------------------------------------------------------------------------------\n",
      "const          0.0077      0.001     12.864      0.000       0.007       0.009\n",
      "treatment     -0.0065      0.001     -6.900      0.000      -0.008      -0.005\n",
      "==============================================================================\n",
      "Omnibus:                    43185.290   Durbin-Watson:                   0.042\n",
      "Prob(Omnibus):                  0.000   Jarque-Bera (JB):         36977735.161\n",
      "Skew:                          13.899   Prob(JB):                         0.00\n",
      "Kurtosis:                     194.576   Cond. No.                         2.46\n",
      "==============================================================================\n",
      "\n",
      "Notes:\n",
      "[1] Standard Errors assume that the covariance matrix of the errors is correctly specified.\n"
     ]
    }
   ],
   "source": [
    "print(results2.summary())"
   ]
  },
  {
   "cell_type": "code",
   "execution_count": 37,
   "id": "fa0b3ad0",
   "metadata": {},
   "outputs": [
    {
     "data": {
      "text/plain": [
       "const         0.006386\n",
       "instrument   -0.002582\n",
       "dtype: float64"
      ]
     },
     "execution_count": 37,
     "metadata": {},
     "output_type": "execute_result"
    }
   ],
   "source": [
    "results1.params"
   ]
  },
  {
   "cell_type": "markdown",
   "id": "d5d013ab",
   "metadata": {},
   "source": [
    "3. The third data scientist advised that one should consider only babies whose mothers were offered Vitamin A shots, and compare babies who received shots to babies who did not receive shots.                        \n",
    "a. What percent of babies who received Vitamin A shots died? [3 pts]                            \n",
    "b. What percent of babies whose mothers were offered Vitamin A shots, but the mothers did not accept them, died? [3 pts]        \n",
    "c. What is the difference in mortality, and under what assumptions is the difference between these two percentages a valid estimate of the causal impact of receiving vitamin A shots on survival? [4 pts]                           \n",
    "\n"
   ]
  },
  {
   "cell_type": "code",
   "execution_count": 38,
   "id": "b3ad6ec0",
   "metadata": {},
   "outputs": [
    {
     "data": {
      "text/html": [
       "<div>\n",
       "<style scoped>\n",
       "    .dataframe tbody tr th:only-of-type {\n",
       "        vertical-align: middle;\n",
       "    }\n",
       "\n",
       "    .dataframe tbody tr th {\n",
       "        vertical-align: top;\n",
       "    }\n",
       "\n",
       "    .dataframe thead th {\n",
       "        text-align: right;\n",
       "    }\n",
       "</style>\n",
       "<table border=\"1\" class=\"dataframe\">\n",
       "  <thead>\n",
       "    <tr style=\"text-align: right;\">\n",
       "      <th>treatment</th>\n",
       "      <th>0</th>\n",
       "      <th>1</th>\n",
       "    </tr>\n",
       "  </thead>\n",
       "  <tbody>\n",
       "    <tr>\n",
       "      <th>outcome</th>\n",
       "      <td>0.014055</td>\n",
       "      <td>0.00124</td>\n",
       "    </tr>\n",
       "  </tbody>\n",
       "</table>\n",
       "</div>"
      ],
      "text/plain": [
       "treatment         0        1\n",
       "outcome    0.014055  0.00124"
      ]
     },
     "execution_count": 38,
     "metadata": {},
     "output_type": "execute_result"
    }
   ],
   "source": [
    "df_prop_diff3= df_sommer[df_sommer['instrument']==1].groupby('treatment')[['outcome']].mean().T\n",
    "df_prop_diff3.head()"
   ]
  },
  {
   "cell_type": "markdown",
   "id": "d3a37f1e",
   "metadata": {},
   "source": [
    "***Among the mothers who were offered Vitamin A shots for their babies,***\n",
    "\n",
    "- a. 0.124 % of babies whose mothers gave Vitamin A shots to their babies died.\n",
    "- b. 1.4 % of babies whose mothers did not give Vitamin A shots to their babies died.\n",
    "- c. Therefore difference in mortality rate is - 1.275%. \n",
    "      \n",
    "\n",
    "For the difference in percentages to be a causal effect of receiving Vitamin A on mortality rate, we have to assume that there are no systematic differences between the two groups - those who received Vitamin A and those who didn't, or in other words, the choice of who were received Vitamin A vs not should have been decided based on random assignment, so that the possibility of confounding variables (observed or unobserved) is mitigated as much as possible. \n",
    "\n",
    "However, since we are not sure that the groups of mothers who gave their babies the vitamin vs those who didn't give their babies vitamin are identical in all aspects (observed or unobserved), in other words, it is possible that the mother not giving the baby treatment could be a non-random event, and it could be influenced by other factors (possibly unobserved), so we cannot consider this percentage difference to be the causal effect."
   ]
  },
  {
   "cell_type": "markdown",
   "id": "20718865",
   "metadata": {},
   "source": [
    "**4. The fourth data scientist suggested the following Wald estimator for the effect of Vitamin A shots on mortality:**     \n",
    "a. Compute the above Wald estimate for the given dataset. [2 pts]                       \n",
    "b. Under what assumptions is this estimate a valid estimate of the causal impact of vitamin A shots on survival? [4 pts]        \n",
    "c. What is the standard error for the intent-to-treat estimate recommended by the first data scientist? What is the standard error for the Wald estimate recommended by the fourth data scientist? [5 pts]                      \n",
    "i. Which one is larger and why? [4 pts]                  \n",
    "ii. Why might these standard errors be biased? What information would you ideally want to have to address this bias? [5 pts]  "
   ]
  },
  {
   "cell_type": "code",
   "execution_count": 39,
   "id": "13f073de",
   "metadata": {},
   "outputs": [],
   "source": [
    "from linearmodels.iv import IV2SLS"
   ]
  },
  {
   "cell_type": "code",
   "execution_count": 40,
   "id": "890d7f1a",
   "metadata": {},
   "outputs": [],
   "source": [
    "formula = 'outcome ~ 1 + [treatment ~ instrument]'\n",
    "IVmodel = IV2SLS.from_formula(formula, df_sommer).fit(cov_type='unadjusted')"
   ]
  },
  {
   "cell_type": "code",
   "execution_count": 41,
   "id": "9dc2d2fb",
   "metadata": {
    "scrolled": true
   },
   "outputs": [
    {
     "data": {
      "text/html": [
       "<table class=\"simpletable\">\n",
       "<caption>IV-2SLS Estimation Summary</caption>\n",
       "<tr>\n",
       "  <th>Dep. Variable:</th>         <td>outcome</td>     <th>  R-squared:         </th> <td>0.0015</td> \n",
       "</tr>\n",
       "<tr>\n",
       "  <th>Estimator:</th>             <td>IV-2SLS</td>     <th>  Adj. R-squared:    </th> <td>0.0015</td> \n",
       "</tr>\n",
       "<tr>\n",
       "  <th>No. Observations:</th>       <td>23682</td>      <th>  F-statistic:       </th> <td>7.8396</td> \n",
       "</tr>\n",
       "<tr>\n",
       "  <th>Date:</th>             <td>Fri, Apr 08 2022</td> <th>  P-value (F-stat)   </th> <td>0.0051</td> \n",
       "</tr>\n",
       "<tr>\n",
       "  <th>Time:</th>                 <td>09:30:57</td>     <th>  Distribution:      </th> <td>chi2(1)</td>\n",
       "</tr>\n",
       "<tr>\n",
       "  <th>Cov. Estimator:</th>      <td>unadjusted</td>    <th>                     </th>    <td></td>    \n",
       "</tr>\n",
       "<tr>\n",
       "  <th></th>                          <td></td>         <th>                     </th>    <td></td>    \n",
       "</tr>\n",
       "</table>\n",
       "<table class=\"simpletable\">\n",
       "<caption>Parameter Estimates</caption>\n",
       "<tr>\n",
       "      <td></td>      <th>Parameter</th> <th>Std. Err.</th> <th>T-stat</th>  <th>P-value</th> <th>Lower CI</th> <th>Upper CI</th>\n",
       "</tr>\n",
       "<tr>\n",
       "  <th>Intercept</th>  <td>0.0064</td>    <td>0.0007</td>   <td>9.6889</td>  <td>0.0000</td>   <td>0.0051</td>   <td>0.0077</td> \n",
       "</tr>\n",
       "<tr>\n",
       "  <th>treatment</th>  <td>-0.0032</td>   <td>0.0012</td>   <td>-2.7999</td> <td>0.0051</td>   <td>-0.0055</td>  <td>-0.0010</td>\n",
       "</tr>\n",
       "</table><br/><br/>Endogenous: treatment<br/>Instruments: instrument<br/>Unadjusted Covariance (Homoskedastic)<br/>Debiased: False"
      ],
      "text/plain": [
       "<class 'linearmodels.compat.statsmodels.Summary'>\n",
       "\"\"\"\n",
       "                          IV-2SLS Estimation Summary                          \n",
       "==============================================================================\n",
       "Dep. Variable:                outcome   R-squared:                      0.0015\n",
       "Estimator:                    IV-2SLS   Adj. R-squared:                 0.0015\n",
       "No. Observations:               23682   F-statistic:                    7.8396\n",
       "Date:                Fri, Apr 08 2022   P-value (F-stat)                0.0051\n",
       "Time:                        09:30:57   Distribution:                  chi2(1)\n",
       "Cov. Estimator:            unadjusted                                         \n",
       "                                                                              \n",
       "                             Parameter Estimates                              \n",
       "==============================================================================\n",
       "            Parameter  Std. Err.     T-stat    P-value    Lower CI    Upper CI\n",
       "------------------------------------------------------------------------------\n",
       "Intercept      0.0064     0.0007     9.6889     0.0000      0.0051      0.0077\n",
       "treatment     -0.0032     0.0012    -2.7999     0.0051     -0.0055     -0.0010\n",
       "==============================================================================\n",
       "\n",
       "Endogenous: treatment\n",
       "Instruments: instrument\n",
       "Unadjusted Covariance (Homoskedastic)\n",
       "Debiased: False\n",
       "\"\"\""
      ]
     },
     "execution_count": 41,
     "metadata": {},
     "output_type": "execute_result"
    }
   ],
   "source": [
    "IVmodel.summary"
   ]
  },
  {
   "cell_type": "markdown",
   "id": "2942d3cd",
   "metadata": {},
   "source": [
    "a. The Wald Estimate value as obtained from the above 2SLS regression is -0.0032. \n",
    "b. This estimate is a valid estimate of the causal impact under following assumptions:\n",
    "\n",
    "1. The intent to treat (offer of vitaminA) is uncorrelated with any external confounding variable (exogenous in this context). We have assigned this choice of mohers/babies to be treated in a random fashion.\n",
    "2. The intent to treat (offer of vitaminA) is not same as the treatment itself (not completely deterministic).\n",
    "3. Standard error of the first estimate is 0.001. Standard error of the Wald estimate is 0.0012. \n",
    "    -Standard error of the Wald estimate seems to be higher due to the denominator having additional term.\n",
    "    -These standard errors might be biased as we do not know the exact distributions of the variables. "
   ]
  },
  {
   "cell_type": "markdown",
   "id": "611b3cd4",
   "metadata": {},
   "source": [
    "# Exercise 3: Causal Inference in Observational Studies\n",
    "\n",
    "**Read the paper “The Design Versus the Analysis of Observational Studies for Causal Effects:Parallels With the Design of Randomized Trials” by Donald Rubin.**              \n",
    "Write a short reflection paragraph up to half a page with your comments. You can use bullet\n",
    "points to write your comments. Comments can be 1) points that resonated most with you, 2)\n",
    "points of disagreement, 3) a comparison to what you’ve learned in previous classes, or 4)\n",
    "anything else you want to comment on as long as they demonstrate that you read and thought\n",
    "about the paper. [10 pts]"
   ]
  },
  {
   "cell_type": "markdown",
   "id": "2c579fcc",
   "metadata": {},
   "source": [
    "Below are some the ideas that really resonated with me, along with additional comments wherever applicable.\n",
    "\n",
    "- One of the interesting ideas that really resonated with me is the fact the Donald Rubin stresses on the fact that **Randomized Experiments and Observational studies are less of a dichotomy but rather on continuum of whether the situation is well-suited for causal inferences or not**. Or in other words, a poorly designed or low quality randomized experiement could provide less accurate Causal inference than a very well designed \"hidden experiment\"-finding in observational data.\n",
    "\n",
    "- Another vital thing that **'Design trumps Analysis'**. As an example, he mentions that while designing the observational study groups, its important not to implement outcome data during design phase (**'No outcome data in sight'**) so that proper fidelity is maintained in the design.\n",
    "\n",
    "- The paper also provides good examples of what a **badly designed causal study from observational data looks like**. The author gives the example of the **U.S. Tobacco litigation** and goes on to show how the treatment (Smokers) and control(non-smokers) groups used to make a case of impact of differential healthcare impact and cost on these **two groups are 'not equivalent' or 'like' each other in terms of distribution of background variables**. He works on proving his point by a careful study of all the covariates used (based on what was legally allowed by the court for usage) and their subclassification and matching based on them, that the effects ultimately studied cannot be deemed causal.\n",
    "\n",
    "- Finally to conclude, the paper outlines a very **good outline how to perform the 'assignment' phase of the RCM (Rubin Causal Model)**. How to define the units, treatments, covariates, considerations of SUTVA assumptions and an array of ideas that need to be concretly verified before making causal analysis on the observational data.\n",
    "\n"
   ]
  }
 ],
 "metadata": {
  "kernelspec": {
   "display_name": "Python 3 (ipykernel)",
   "language": "python",
   "name": "python3"
  },
  "language_info": {
   "codemirror_mode": {
    "name": "ipython",
    "version": 3
   },
   "file_extension": ".py",
   "mimetype": "text/x-python",
   "name": "python",
   "nbconvert_exporter": "python",
   "pygments_lexer": "ipython3",
   "version": "3.8.12"
  }
 },
 "nbformat": 4,
 "nbformat_minor": 5
}
